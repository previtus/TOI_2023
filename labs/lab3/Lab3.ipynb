{
 "cells": [
  {
   "cell_type": "markdown",
   "metadata": {},
   "source": [
    "<table style=\"width:100%\">\n",
    "  <tr style=\"background-color:#002147\">\n",
    "    <th><p style=\"color:white\">Professional Programme, Department of Computer Science, University of Oxford</th> \n",
    "  </tr>\n",
    "</table>"
   ]
  },
  {
   "cell_type": "markdown",
   "metadata": {},
   "source": [
    "\n",
    "\n",
    "#  Things of the Internet (TOI)\n",
    "\n",
    "\n",
    "\n"
   ]
  },
  {
   "cell_type": "markdown",
   "metadata": {},
   "source": [
    "## LAB 3: Routing"
   ]
  },
  {
   "cell_type": "markdown",
   "metadata": {},
   "source": [
    "Please note the submission deadline for this report is Thursday 12:00 PM, March 24th, 2022."
   ]
  },
  {
   "cell_type": "markdown",
   "metadata": {},
   "source": [
    "Your name:"
   ]
  },
  {
   "cell_type": "markdown",
   "metadata": {},
   "source": [
    "### Introduction\n",
    "In this practical, we will implement and compare two important types of routing protocols, the distance-vector (DV) protocol and the link-state (LS) protocol. In this practical, we will implement and compare two important types of routing protocols, the distance-vector (DV) protocol and the link-state (LS) protocol. In this lab, the Python kernel will researt everytime you run an experiment, so the program will intentionally shut down the kernel everytime. If you see the warning \"The kernel appears to have died. It will restart automatically.\", it's completely normal and you do not need to do anything about it.\n",
    "\n",
    "### 1 The NetSim simulator\n",
    "In this practical, we will primarily use the NetSim simulator, which is similar with the WSim simulator used in the previous practical. NetSim executes a set of steps every time slot, where time increases by 1 each slot. During each time slot a node can deliver one packet to its one-hop neighbour nodes via direct wireless links. You will have the full access to the source code p3_netsim.py, and you can try to read it and find out how the simulator works.\n",
    "\n",
    "Run the code in Section 3 (Distance-vector routing). You may see something like this (Just ignore the blue dot):\n",
    "\n",
    "<img src=\"fig1.png\" style=\"zoom:75%\" />\n",
    "\n",
    "There are several parameters you can modify:\n",
    "\n",
    "| Parameter Name | Description | Default Value |\n",
    "| :------: | :------: | :------: |\n",
    "| gui | Show GUI | True |\n",
    "| numnodes | Number of nodes | 12 |\n",
    "| simtime | Simulation time | 2000 |\n",
    "| rand | Use randomly generated topology | False |\n",
    "\n",
    "You can click on the nodes to see the current neighbour and routing information in the terminal window. Note that now it should be pretty empty, and after you implement the routing protocols you should be able to see the neighbour list and routing table/costs.\n",
    "\n",
    "If you set *gui* to False, the simulator will run itself against several test cases.\n",
    "\n",
    "### 2 Test cases\n",
    "Your protocols will be tested against the following test cases (see p3_tests.py): \n",
    "\n",
    "**Euclidean network**: the cost on the edges of the network is Euclidean, i.e. for three nodes A, B and C, we have (cost(AB) + cost(BC) > cost(AC), and the links between nodes are stable. \n",
    "\n",
    "**Non-Euclidean network**: the links between nodes are stable, but the cost can be non-Euclidean.\n",
    "\n",
    "**Network with cost changes**: the cost of the edges may change during simulation.\n",
    "\n",
    "**Network with cost change and broken links**: the links between nodes are not stable and can break during simulation, while the cost may also change\n",
    "\n",
    "**Disconnected Network**: the network can become disconnected during simulation. \n",
    "\n",
    "Passing all the test doesn’t mean your code is correct, while the correct implementation could also fail in some test cases.\n",
    "\n",
    "\n"
   ]
  },
  {
   "cell_type": "markdown",
   "metadata": {},
   "source": [
    "### 3 Distance-vector routing\n",
    "In the distance-vector routing protocol, each node periodically broadcasts to its neighbours about its current routing table, i.e. a vector \\[(dst1, cost1), (dst2, cost2), …\\], which describes the current cost of reaching each destination from itself. When receiving such an advertisement from a neighbour, the node updates its current routing table accordingly. In this practical, we assume the links in the network are bi-directional with symmetric cost, i.e. the cost of a link from A to B is the same as that of B to A. \n",
    "\n",
    "Your task is to implement both the advertisement and integration steps. We provide the code skeleton below. Here is some key information you might need when implementing your functions:\n",
    "\n",
    "*self.routes*, which is the routing table of the node. It is a python dictionary \\[dst1, link1; dst2, link2, …\\], which maps a destination node to a *Link*. A *Link* object e.g. link1, represents the edge that connects the current node to its next hop neighbour towards the destination dst1. The cost associated with the link can be obtained by calling *link1.cost* (a variable defined in class *Link*). For instance, suppose node A connects to B, which then connects to C. Then in the routing table of A, you would see an entry \\[C, link<sub>AB</sub> \\]. link<sub>AB</sub> can be obtained by calling *self.getlink(B)* (assuming your code is running on node A). Your code should update this routing table when you receive information from other nodes. \n",
    "\n",
    "*self.spcost*, which is the cost table of the node. It is a python dictionary \\[dst1, cost1; dst2, cost2, …\\], which maps a destination node to the currently estimated cost of getting there. Your code should set this cost table as well.\n"
   ]
  },
  {
   "cell_type": "code",
   "execution_count": null,
   "metadata": {},
   "outputs": [],
   "source": [
    "### Distance vector routing\n",
    "import random,sys,math\n",
    "from optparse import OptionParser\n",
    "from p3_netsim import *\n",
    "import p3_tests\n",
    "import os\n",
    "import time\n",
    "\n",
    "class DVRouter(Router):\n",
    "    INFINITY = 32\n",
    "\n",
    "    def send_advertisement(self, time):\n",
    "        adv = self.make_dv_advertisement()\n",
    "        for link in self.links:\n",
    "            p = self.network.make_packet(self.address, self.peer(link), \n",
    "                                         'ADVERT', time,\n",
    "                                         color='red', ad=adv)\n",
    "            link.send(self, p)        \n",
    "            \n",
    "    # Make a distance vector protocol advertisement, which will be sent\n",
    "    # by the caller along all the links\n",
    "    def make_dv_advertisement(self):\n",
    "        ## Task 3.1\n",
    "        ## Your code here\n",
    "        pass\n",
    "\n",
    "    def link_failed(self, link):\n",
    "        # If a link is broken, remove it from my routing/cost table\n",
    "        self.clear_routes(self) \n",
    "        \n",
    "    def process_advertisement(self, p, link, time):\n",
    "        self.integrate(link, p.properties['ad'])\n",
    "\n",
    "    # Integrate new routing advertisement to update routing\n",
    "    # table and costs\n",
    "    def integrate(self,link,adv):\n",
    "        ## Task 3.2\n",
    "        ## Your code here \n",
    "        pass\n",
    "\n",
    "# A network with nodes of type DVRouter.\n",
    "class DVRouterNetwork(RouterNetwork):\n",
    "    # nodes should be an instance of DVNode (defined above)\n",
    "    def make_node(self,loc,address=None):\n",
    "        return DVRouter(loc,address=address)\n",
    "\n",
    "########################################################################\n",
    "\n",
    "if __name__ == '__main__':\n",
    "    \n",
    "    gui = True\n",
    "    numnodes = 12\n",
    "    simtime = 2000\n",
    "    rand = False\n",
    "\n",
    "    if rand == True:\n",
    "        rg = RandomGraph(numnodes)\n",
    "        (NODES, LINKS) = rg.genGraph()\n",
    "    else:\n",
    "        # build the deterministic test network\n",
    "        #   A---B   C---D\n",
    "        #   |   | / | / |\n",
    "        #   E   F---G---H\n",
    "        # format: (name of node, x coord, y coord)\n",
    "\n",
    "        NODES =(('A',0,0), ('B',1,0), ('C',2,0), ('D',3,0),\n",
    "                ('E',0,1), ('F',1,1), ('G',2,1), ('H',3,1))\n",
    "\n",
    "        # format: (link start, link end)\n",
    "        LINKS = (('A','B'),('A','E'),('B','F'),('E','F'),\n",
    "                 ('C','D'),('C','F'),('C','G'),\n",
    "                 ('D','G'),('D','H'),('F','G'),('G','H'))\n",
    "\n",
    "    # setup graphical simulation interface\n",
    "    if gui == True:\n",
    "        net = DVRouterNetwork(simtime, NODES, LINKS, 0)\n",
    "        sim = NetSim()\n",
    "        sim.SetNetwork(net)\n",
    "        sim.MainLoop()\n",
    "    else:\n",
    "        p3_tests.verify_routes(DVRouterNetwork)\n",
    "    time.sleep(3)\n",
    "    os._exit(0)\n",
    "        \n"
   ]
  },
  {
   "cell_type": "markdown",
   "metadata": {},
   "source": [
    "**Task 3.1**: Implement *make_dv_advertisement(self)* function, which constructs the distance vector advertisement based on the current cost table self.spcost of the node. Your code should return a list, containing the constructed distance vector advertisement."
   ]
  },
  {
   "cell_type": "markdown",
   "metadata": {},
   "source": [
    "**Task 3.2**: Implement the *integrate(self,link,adv)* function, which updates the routing table and cost table based on the advertisement. The input parameter link is the link through which the actual advertisement adv has been delivered, i.e. the link that connects that node and the neighbour who advertised adv. You may want to use the distributed Bellman-Ford algorithm discussed in the lecture. Run the code to check if your code passes the first two test cases."
   ]
  },
  {
   "cell_type": "markdown",
   "metadata": {},
   "source": [
    "Your answer:"
   ]
  },
  {
   "cell_type": "markdown",
   "metadata": {},
   "source": [
    "**Task 3.3**: Improve your implementation of *integrate(self,link,adv)* function to handle cost changes. Consider the following scenario: node A connects to B, which connects to C. Assume that the costs are AB = 1, BC = 1. Suppose the current routing table at A contains this entry (C, link<sub>AB</sub>), and the cost table has entry (C, 2). This means A knows that to go to C, it has to follow the link to B, and the cost is 2. Now let’s say the cost BC is changed to 10. How should you make your code robust to such a situation?"
   ]
  },
  {
   "cell_type": "markdown",
   "metadata": {},
   "source": [
    "Your answer:"
   ]
  },
  {
   "cell_type": "markdown",
   "metadata": {},
   "source": [
    "**Task 3.4**: We define the convergence time of a routing protocol as the total amount of timestamps it needs to make every node in the network has the correct routing table. In the final test case where the network becomes disconnected, the distance-vector routing protocol is expected to fail. Can you explain why? "
   ]
  },
  {
   "cell_type": "markdown",
   "metadata": {},
   "source": [
    "Your answer:"
   ]
  },
  {
   "cell_type": "markdown",
   "metadata": {},
   "source": [
    "### 4 Link-state routing\n",
    "Recall from the lecture that in link-state routing, each node advertises its current link state (cost to its neighbours) to all the neighbours, and each recipient re-sends this information on all of its links. In this way, the link state is flooded through the network, and eventually all nodes know about all the links and nodes in the network topology. Then each node integrates the received information to compute the minimum cost path to every other node in the network. \n",
    "\n",
    "Your task is to implement both the advertisement and integration steps. We have provided the code skeleton in below. \n"
   ]
  },
  {
   "cell_type": "code",
   "execution_count": null,
   "metadata": {},
   "outputs": [],
   "source": [
    "# Link-state routing protocal\n",
    "import random,sys,math\n",
    "from optparse import OptionParser\n",
    "from p3_netsim import *\n",
    "import p3_tests\n",
    "import os, time\n",
    "\n",
    "import numpy as np\n",
    "\n",
    "\n",
    "class LSRouter(Router):\n",
    "    INFINITY = sys.maxsize\n",
    "\n",
    "    def __init__(self,location,address=None):\n",
    "        Router.__init__(self, location, address=address)\n",
    "        # address -> (seqnum,(nbr1,cost1),(nbr2,cost2),(nbr3,cost3),...)\n",
    "        self.LSA = {} \n",
    "        self.LSA_seqnum = 0     # uniquely identify each LSA broadcast\n",
    "\n",
    "    def make_ls_advertisement(self):\n",
    "        # return a list of all neighbors to send out in an LSA\n",
    "        ## Your code here\n",
    "        pass\n",
    "\n",
    "    def send_lsa(self, time):\n",
    "        self.LSA_seqnum += 1\n",
    "        lsa_info = self.make_ls_advertisement()\n",
    "        for link in self.links:\n",
    "            p = self.network.make_packet(self.address, self.peer(link), \n",
    "                                         'ADVERT', time, color='red',\n",
    "                                         seqnum=self.LSA_seqnum,\n",
    "                                         neighbors=lsa_info)\n",
    "            link.send(self, p)\n",
    "\n",
    "    def send_advertisement(self, time):\n",
    "        self.send_lsa(time)\n",
    "        self.clear_stale_lsa(time)\n",
    "    \n",
    "    def clear_stale_lsa(self, time):\n",
    "        # After sending out LSA packets, clear out older LSA entries\n",
    "        for key in list(self.LSA):\n",
    "            if self.LSA[key][0] < self.LSA_seqnum - 1:\n",
    "                del self.LSA[key]\n",
    "    def process_advertisement(self, p, link, time):\n",
    "        # Process incoming LSA advertisement.\n",
    "        # First get sequence number from packet, then see if we have a \n",
    "        # EX entry in LSA from the same node\n",
    "        seq = p.properties['seqnum']\n",
    "        saved = self.LSA.get(p.source, (-1,))\n",
    "        if seq > saved[0]:\n",
    "            # update only if incoming seqnum is larger than saved seqnum\n",
    "            if p.properties['neighbors'] is not None:\n",
    "                self.LSA[p.source] = [seq] + p.properties['neighbors']\n",
    "            else:\n",
    "                print(p.properties)\n",
    "                print('Malformed LSA: No LSA neighbor information in packet.  Exiting...')\n",
    "                sys.exit(1)\n",
    "            # Rebroadcast packet to our neighbors.  We don't _have_ to\n",
    "            # rebroadcast to the neighbor we just got the LSA from,\n",
    "            # but we're going to do it anyway...\n",
    "            for link in self.links:\n",
    "                link.send(self, self.network.duplicate_packet(p))\n",
    "\n",
    "    # get_all_nodes scans each node's LSA to visit all the other\n",
    "    # non-neighbor nodes emulating a breadth first search (BFS).  The\n",
    "    # reason we do a BFS traversal rather than simply use self.LSA is\n",
    "    # because we want to have a route to every node that is currently\n",
    "    # reachable from us.\n",
    "    def get_all_nodes(self):\n",
    "        nodes = [self.address]\n",
    "        for u in nodes:\n",
    "            if self.LSA.get(u) != None:\n",
    "                lsa_info = self.LSA[u][1:]\n",
    "                for i in range(len(lsa_info)):\n",
    "                    v = lsa_info[i][0]\n",
    "                    if not v in nodes:\n",
    "                        nodes.append(v)\n",
    "        return nodes\n",
    "\n",
    "    # Each node's spcost and routes[] table should be set correctly\n",
    "    # in this function by processing the information in self.LSA.\n",
    "    # \"nodes\" is the list of nodes we know about.\n",
    "    def run_dijkstra(self, nodes):\n",
    "        ## Your code here\n",
    "        pass\n",
    "\n",
    "\n",
    "    # Let's clear the current routing table and rebuild it.  The hard\n",
    "    # work is done by run_dijkstra().\n",
    "    def integrate(self, time):\n",
    "        self.routes.clear()\n",
    "        self.routes[self.address] = 'Self'\n",
    "        #initialize our own LSA       \n",
    "        self.LSA[self.address] = [self.LSA_seqnum] + \\\n",
    "                                 self.make_ls_advertisement()\n",
    "        nodes = self.get_all_nodes()\n",
    "        self.spcost = {}\n",
    "        for u in nodes:\n",
    "            self.spcost[u] = self.INFINITY\n",
    "        self.spcost[self.address] = 0 # path cost to myself is 0\n",
    "\n",
    "        self.run_dijkstra(nodes)\n",
    "\n",
    "    def transmit(self, time):\n",
    "        Router.transmit(self, time)\n",
    "        if (time % self.ADVERT_INTERVAL) == self.ADVERT_INTERVAL/2:\n",
    "            self.integrate(time)\n",
    "\n",
    "    def OnClick(self,which):\n",
    "        if which == 'left':\n",
    "            print(self)\n",
    "            print('  LSA:')\n",
    "            for (key,value) in self.LSA.items():\n",
    "                print('    ',key,': ',value)\n",
    "        Router.OnClick(self,which)\n",
    "\n",
    "# A network with nodes of type LSRouter\n",
    "class LSRouterNetwork(RouterNetwork):\n",
    "    def make_node(self,loc,address=None):\n",
    "        return LSRouter(loc,address=address)\n",
    "\n",
    "########################################################################\n",
    "\n",
    "if __name__ == '__main__':\n",
    "    \n",
    "    gui = False\n",
    "    numnodes = 12\n",
    "    simtime = 2000\n",
    "    rand = False\n",
    "\n",
    "    if rand == True:\n",
    "        rg = RandomGraph(opt.numnodes)\n",
    "        (NODES, LINKS) = rg.genGraph()\n",
    "    else:\n",
    "        # build the deterministic test network\n",
    "        #   A---B   C---D\n",
    "        #   |   | / | / |\n",
    "        #   E   F---G---H\n",
    "        # format: (name of node, x coord, y coord)\n",
    "\n",
    "        NODES =(('A',0,0), ('B',1,0), ('C',2,0), ('D',3,0),\n",
    "                ('E',0,1), ('F',1,1), ('G',2,1), ('H',3,1))\n",
    "\n",
    "        # format: (link start, link end)\n",
    "        LINKS = (('A','B'),('A','E'),('B','F'),('E','F'),\n",
    "                 ('C','D'),('C','F'),('C','G'),\n",
    "                 ('D','G'),('D','H'),('F','G'),('G','H'))\n",
    "\n",
    "    # setup graphical simulation interface\n",
    "    if gui == True:\n",
    "        net = LSRouterNetwork(simtime, NODES, LINKS, 0)\n",
    "        sim = NetSim()\n",
    "        sim.SetNetwork(net)\n",
    "        sim.MainLoop()\n",
    "    else:        \n",
    "        p3_tests.verify_routes(LSRouterNetwork)\n",
    "    time.sleep(3)\n",
    "    os._exit(0)"
   ]
  },
  {
   "cell_type": "markdown",
   "metadata": {},
   "source": [
    "**Task 4.1**: Implement the *make_ls_advertisement* function, which constructs the link state advertisement based on the current knowledge of the node. The current link state is stored in a python dictionary (or equivalently a hashmap) self.neighbors, and can be retrieved by calling *self.neighbors.values()*, which returns a list of \\[(timestamp1, neighbour1, linkcost1), (timestamp2, neighbour2, linkcost2), … \\] (Hint: you don’t need the timestamps). Your code should return a list, containing all the link state information possessed by this node."
   ]
  },
  {
   "cell_type": "markdown",
   "metadata": {},
   "source": [
    "**Task 4.2**: (optional) Implement the *run_dijkstra(self,nodes)* function, which computes the shortest path from this node to all other nodes in the network. The input parameter nodes is all the nodes we know about within the network. Here is some extra data structure you might need to reference.\n",
    "\n",
    "*self.LSA*, which is the database of the received link state advertisement. It is again a python dictionary \\[advertiser, linkstate\\], which maps a node that sent this advertisement to the advertised link state. The linkstate is in a list \\[seqnum, (node1, cost1), (node2, cost2), …\\]. The first element seqnum denotes the “freshness” of this advertisement, and is increased by 1. The rest (node, cost) pairs represent the neighbours of the advertiser node, and the link cost. \n",
    "\n",
    "Your code should be able to process the information encoded in *self.LSA*, and update the *self.routes* and *self.spcost* accordingly. Recap the Dijkstra algorithm from exercise 2, or Wiki:  https://en.wikipedia.org/wiki/Dijkstra%27s_algorithm. Run the code to check if your code passes the test cases."
   ]
  },
  {
   "cell_type": "markdown",
   "metadata": {},
   "source": [
    "**Task 4.3**: (optional) Run both the distance-vector and link-state routing protocols. Check the convergence time of each test case: what can you observe? Can you explain why? Note that in our simulation, each node checks whether its neighbours are “alive” every 5 timestamps, and advertises to them at an interval of 20."
   ]
  },
  {
   "cell_type": "markdown",
   "metadata": {},
   "source": [
    "Your answer:"
   ]
  }
 ],
 "metadata": {
  "kernelspec": {
   "display_name": "Python 3 (ipykernel)",
   "language": "python",
   "name": "python3"
  },
  "language_info": {
   "codemirror_mode": {
    "name": "ipython",
    "version": 3
   },
   "file_extension": ".py",
   "mimetype": "text/x-python",
   "name": "python",
   "nbconvert_exporter": "python",
   "pygments_lexer": "ipython3",
   "version": "3.7.0"
  }
 },
 "nbformat": 4,
 "nbformat_minor": 4
}

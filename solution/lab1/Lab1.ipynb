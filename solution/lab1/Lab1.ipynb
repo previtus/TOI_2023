{
 "cells": [
  {
   "cell_type": "markdown",
   "metadata": {},
   "source": [
    " \n",
    "<table style=\"width:100%\">\n",
    "  <tr style=\"background-color:#002147\">\n",
    "    <th><p style=\"color:white\">Professional Programme, Department of Computer Science, University of Oxford</th> \n",
    "  </tr>\n",
    "</table>"
   ]
  },
  {
   "cell_type": "markdown",
   "metadata": {},
   "source": [
    "\n",
    "\n",
    "#  Things of the Internet (TOI)\n",
    "\n",
    "\n",
    "\n"
   ]
  },
  {
   "cell_type": "markdown",
   "metadata": {},
   "source": [
    "# LAB 1: RF Based Positioning\n",
    "# SAMPLE SOLUTIONS"
   ]
  },
  {
   "cell_type": "markdown",
   "metadata": {},
   "source": [
    "Please note the submission deadline for this report is Tuesday 12:00 PM, March 21st, 2023."
   ]
  },
  {
   "cell_type": "markdown",
   "metadata": {},
   "source": [
    "Your name:"
   ]
  },
  {
   "cell_type": "markdown",
   "metadata": {},
   "source": [
    "##  Introduction\n",
    "\n",
    "Localization is a key capability for things of the internet. Things need to know where they are to provide context to sensor readings. There are many ways of working out where a sensor is, ranging from GPS to inertial measurement units. However, one of the simplest techniques is to use measurements of ambient radio signal strength e.g. WiFi. Things are equipped with wireless transceivers anyway for communication, so the key is to try and exploit the transceiver to give measurements of location. This is particularly well suited to indoor settings, where a number of APs (access points/routers) are installed to provide good communication coverage so mobile devices can connect to a wireless network. The operating principle is simple: the closer the device is to an AP, the stronger the received signal strength is. However, the devil is in the details – the surrounding environment (walls, people, furniture, obstacles etc etc) all conspire to alter the relationship between signal strength and distance, so what starts off as a nice straight line in theory, turns into a very wiggly and noisy relationship. What is worse, this relationship is dynamic as well – a stationary WiFi device will typically experience a variation in signal strength over time.\n",
    "\n",
    "So the question is: how are we going to use these noisy measurements to estimate a device’s location and how accurate can it be?\n",
    "Rather than using a physics based model and trying to model and represent all the sources of disturbance, we take a much simpler approach. We approach the problem by breaking it down into two stages. In the first stage (the offline phase), we manually survey the signal strengths, i.e. we stand in a surveyed location and record what APs can be heard and with what strength. We obtain a vector (tuple) of measurements e.g. <X:-20,Y:-30,Z-32> could be the vector from one location, where we can hear APs X,Y and Z and <W:-40,Z-60> could be the vector from another location where we can hear APs W and Z. These vectors of signal strength are commonly called fingerprints i.e. the hope is that they are sufficiently unique and discriminative such that every location has a different fingerprint. Obviously, there is a time (and consequently financial) cost in building the map, so there is a question about how precisely the map needs to be surveyed e.g. on a 1 m grid spacing or on a 5 m grid spacing or even simply in the centre of each room.\n",
    "\n",
    "In the second phase (the online phase), the device will record a vector of signal strengths. The goal now is to come up with some algorithm that, with the aid of the map collected in the offline phase, could accurately determine the location of the device. There are many different approaches to doing this, and the aim of this lab is to demonstrate how a location system could be built using WiFi signal strength measurements, to consider factors which would impact its performance, and to discuss its relative merits.\n"
   ]
  },
  {
   "cell_type": "markdown",
   "metadata": {},
   "source": [
    "<div class=\"alert alert-warning\">\n",
    "<b>NOTE</b> The labs in this course are based on Python 3.7. Please refer to the environment setting introduction for details. If you have any problems with Python version please ask for help.\n",
    "</div> \n"
   ]
  },
  {
   "cell_type": "markdown",
   "metadata": {},
   "source": [
    "## Exploratory Data Analysis\n",
    "\n",
    "We have collected a set of data for use in this lab. During the offline phase we survey the environment collecting RSS measurements. For this demonstration we have collected 60 samples per location. Navigate to “data/set1/wifiData/” and open “Wifi_14.txt” with a text editor to look at a sample file. The first few lines look like the following:\n",
    "\n",
    "`\n",
    "2 4\n",
    "1 AP_1 -37.89\n",
    "2 AP_2 -52.63\n",
    "3 AP_3 -44.98\n",
    "4 AP_1 -38.68\n",
    "5 AP_2 -61.14\n",
    "6 AP_3 -35.08\n",
    "7 AP_1 -39.46\n",
    "8 AP_2 -61.62\n",
    "9 AP_3 -47.00\n",
    "10 AP_1 -38.00\n",
    "11 AP_2 -60.69\n",
    ".....`\n",
    "\n",
    "The first line in the file is the survey coordinate i.e. (x = 2 m, y = 4 m).  The remainder of the lines detail the signal strengths in dBm from each access point. Note that each access point normally has a long BSSID as a unique identifier (e.g. `d8:c7:c8:cc:43:24`), but we have made things simpler here for ease of understanding.\n",
    "\n",
    "Each file corresponds to a different survey location and typically 60 measurements are taken from each AP. In this dataset (set1), there are 3 APs in range, and in total we have collected Wi-Fi samples from 121 locations. \n",
    "\n",
    "During the online phase we want to estimate the user’s unknown location using RSS readings collected at that location. There we will use the test data set.\n",
    "\n",
    "To simplify things, we have couple of functions pre-written for us to do the data loading and processing - this should make it simpler to focus on the interesting parts of this challenge."
   ]
  },
  {
   "cell_type": "markdown",
   "metadata": {},
   "source": [
    "Finally, we have collected two datasets (i.e. set1 and set2); set1 contains RSS measurements with respect to 3 APs and set2 with respect to 5 APs."
   ]
  },
  {
   "cell_type": "markdown",
   "metadata": {},
   "source": [
    "### Loading and visualizing\n",
    "\n",
    "We have written some helper functions which load the datasets (both test and train) and visualize their spatial distribution, which can be found in `helper.py`. "
   ]
  },
  {
   "cell_type": "code",
   "execution_count": 1,
   "metadata": {},
   "outputs": [],
   "source": [
    "import helper as myhelper\n",
    "\n",
    "def get_location(dataset, index):\n",
    "    \"\"\" This function will give us the location \"\"\"\n",
    "    x = dataset[index, 1]\n",
    "    y = dataset[index, 2]\n",
    "    return x, y\n",
    "    \n",
    "def get_AP_signal_strength(dataset, index, AP_n, num_of_samples):\n",
    "    \"\"\" \n",
    "    This function will give us a list of measurements from the AP number AP_n.\n",
    "    Set the num_of_samples according to the number of measurements in the train or the test set.\n",
    "    \"\"\"\n",
    "    signal_strenghts = dataset[index,3+AP_n*num_of_samples:3+(AP_n+1)*num_of_samples]\n",
    "    return signal_strenghts\n"
   ]
  },
  {
   "cell_type": "markdown",
   "metadata": {},
   "source": [
    "The function `load_wifi_data` has the following API\n",
    "\n",
    "```python\n",
    "def load_wifi_data(data_folder, n_samples, n_ap):\n",
    "    \"\"\"\n",
    "    :param data_folder: Location of WiFi RSS data\n",
    "    :param n_samples: Number of RSS samples to return for each location\n",
    "    :param n_ap: Number of access points\n",
    "    :return: train and test wifi databases\n",
    "    \"\"\"\n",
    " ```\n",
    " \n",
    "Lets load up the train and test datasets from Set1 (3 APs)."
   ]
  },
  {
   "cell_type": "code",
   "execution_count": 2,
   "metadata": {},
   "outputs": [],
   "source": [
    "import os\n",
    "parent_dir = os.path.abspath(os.path.join('../..'))\n",
    "datasetpath = os.path.join(parent_dir,'lab1','data','set1')\n",
    "NUMBER_OF_APS = 3\n",
    "MAX_SAMPLES = 60\n",
    "trainData,testData = myhelper.load_wifi_data(datasetpath,MAX_SAMPLES,NUMBER_OF_APS)"
   ]
  },
  {
   "cell_type": "markdown",
   "metadata": {},
   "source": [
    "The dataset is stored simply as a large array, with the following structure.\n",
    "![db1.png](db1.png)\n"
   ]
  },
  {
   "cell_type": "markdown",
   "metadata": {},
   "source": [
    "Lets look at the first row of the training dataset. It corresponds to the readings obtained from the location (20,  14)"
   ]
  },
  {
   "cell_type": "code",
   "execution_count": 3,
   "metadata": {},
   "outputs": [
    {
     "data": {
      "text/plain": [
       "array([  0.  ,  20.  ,  14.  , -50.57, -49.84, -49.22, -49.82, -50.12,\n",
       "       -51.3 , -50.59, -50.24, -50.45, -51.18, -49.14, -50.42, -50.49,\n",
       "       -49.95, -49.73, -50.71, -50.54, -50.4 , -50.6 , -49.85, -50.  ,\n",
       "       -50.91, -49.88, -50.87, -50.35, -51.05, -50.79, -50.48, -50.91,\n",
       "       -50.51, -50.01, -50.4 , -51.31, -50.39, -49.3 , -50.76, -50.69,\n",
       "       -50.34, -49.77, -50.34, -50.97, -50.43, -49.7 , -50.85, -50.21,\n",
       "       -51.47, -50.7 , -49.95, -49.79, -50.67, -50.66, -50.59, -50.48,\n",
       "       -49.97, -50.69, -49.61, -50.5 , -50.66, -50.26, -50.53, -59.05,\n",
       "       -60.34, -67.09, -48.81, -58.11, -59.4 , -60.42, -61.92, -55.32,\n",
       "       -56.3 , -53.92, -53.19, -61.42, -64.16, -63.49, -58.82, -61.25,\n",
       "       -63.06, -54.49, -61.15, -61.12, -52.44, -58.12, -68.37, -56.71,\n",
       "       -64.47, -61.95, -56.02, -71.58, -64.37, -58.08, -52.77, -48.  ,\n",
       "       -57.01, -64.59, -65.92, -45.54, -53.64, -54.1 , -56.12, -47.9 ,\n",
       "       -56.67, -63.15, -57.95, -55.44, -65.06, -72.21, -66.09, -60.85,\n",
       "       -58.37, -55.49, -61.91, -57.58, -56.72, -62.09, -57.35, -60.58,\n",
       "       -60.31, -59.08, -67.74, -23.73, -31.59, -20.04, -25.91, -24.26,\n",
       "       -29.48, -28.23, -34.44, -26.63, -27.08, -22.21, -21.3 , -19.21,\n",
       "       -27.2 , -22.4 , -24.59, -20.88, -26.32, -29.04, -23.78, -27.76,\n",
       "       -17.9 , -29.78, -22.14, -20.16, -23.53, -25.67, -21.49, -20.48,\n",
       "       -20.54, -30.78, -17.45, -23.04, -26.68, -22.96, -25.98, -25.48,\n",
       "       -24.  , -27.59, -22.97, -26.  , -26.38, -24.17, -33.65, -24.72,\n",
       "       -24.7 , -24.05, -29.03, -22.58, -30.37, -29.03, -26.88, -25.68,\n",
       "       -26.72, -22.49, -30.51, -30.63, -26.31, -22.43, -23.42])"
      ]
     },
     "execution_count": 3,
     "metadata": {},
     "output_type": "execute_result"
    }
   ],
   "source": [
    "# look a the first row of the array\n",
    "trainData[0,:]"
   ]
  },
  {
   "cell_type": "markdown",
   "metadata": {},
   "source": [
    "This is a bit hard to read through, so we have prepared couple of functions that will help you navigating this data:"
   ]
  },
  {
   "cell_type": "code",
   "execution_count": 4,
   "metadata": {
    "scrolled": true
   },
   "outputs": [
    {
     "name": "stdout",
     "output_type": "stream",
     "text": [
      "Measurement with the index 0 was conducted at location 20.0 14.0\n"
     ]
    }
   ],
   "source": [
    "# Getting the location:\n",
    "# This will give us the [x,y] coordinates for the asked index\n",
    "i = 0\n",
    "x, y = get_location(trainData, index = i)\n",
    "print(\"Measurement with the index\",i,\"was conducted at location\",x,y)"
   ]
  },
  {
   "cell_type": "markdown",
   "metadata": {},
   "source": [
    "<div class=\"alert alert-info\">\n",
    "Q: If we get this information from the testData (the loaded test dataset), what do you see? Comment on that.\n",
    "</div> \t"
   ]
  },
  {
   "cell_type": "markdown",
   "metadata": {},
   "source": [
    "Your answer: \n",
    "> Ground Truth, for example the measurement with index 0 has location (3,3) :"
   ]
  },
  {
   "cell_type": "code",
   "execution_count": 5,
   "metadata": {},
   "outputs": [
    {
     "data": {
      "text/plain": [
       "(3.0, 3.0)"
      ]
     },
     "execution_count": 5,
     "metadata": {},
     "output_type": "execute_result"
    }
   ],
   "source": [
    "get_location(testData, index = 0)"
   ]
  },
  {
   "cell_type": "markdown",
   "metadata": {},
   "source": [
    "Similarly, we prepared the function <strong>get_AP_signal_strength()</strong> to get the signal strenghts measured at this index.\n",
    "\n",
    "Just to note \"num_of_samples\" refers to how many measurements we made. The training set has 60, while the testing set has 50."
   ]
  },
  {
   "cell_type": "code",
   "execution_count": 6,
   "metadata": {},
   "outputs": [
    {
     "data": {
      "text/plain": [
       "array([-50.57, -49.84, -49.22, -49.82, -50.12, -51.3 , -50.59, -50.24,\n",
       "       -50.45, -51.18, -49.14, -50.42, -50.49, -49.95, -49.73, -50.71,\n",
       "       -50.54, -50.4 , -50.6 , -49.85, -50.  , -50.91, -49.88, -50.87,\n",
       "       -50.35, -51.05, -50.79, -50.48, -50.91, -50.51, -50.01, -50.4 ,\n",
       "       -51.31, -50.39, -49.3 , -50.76, -50.69, -50.34, -49.77, -50.34,\n",
       "       -50.97, -50.43, -49.7 , -50.85, -50.21, -51.47, -50.7 , -49.95,\n",
       "       -49.79, -50.67, -50.66, -50.59, -50.48, -49.97, -50.69, -49.61,\n",
       "       -50.5 , -50.66, -50.26, -50.53])"
      ]
     },
     "execution_count": 6,
     "metadata": {},
     "output_type": "execute_result"
    }
   ],
   "source": [
    "AP_n = 0 # 0 corresponds to AP1, 1 to AP2, ...\n",
    "get_AP_signal_strength(trainData, index=0, AP_n=AP_n, num_of_samples=60)"
   ]
  },
  {
   "cell_type": "code",
   "execution_count": 7,
   "metadata": {},
   "outputs": [
    {
     "data": {
      "text/plain": [
       "array([-38.05, -39.02, -38.6 , -37.72, -39.11, -38.91, -37.81, -38.1 ,\n",
       "       -37.88, -38.93, -38.76, -37.86, -37.78, -37.94, -38.31, -37.95,\n",
       "       -38.48, -37.76, -38.01, -38.03, -38.66, -38.2 , -37.86, -37.94,\n",
       "       -39.16, -37.71, -38.5 , -38.02, -38.5 , -37.79, -38.49, -37.99,\n",
       "       -37.66, -38.05, -37.6 , -37.99, -38.88, -38.57, -38.33, -38.27,\n",
       "       -38.39, -38.31, -37.73, -36.93, -38.88, -38.22, -37.24, -37.8 ,\n",
       "       -38.32, -37.9 ])"
      ]
     },
     "execution_count": 7,
     "metadata": {},
     "output_type": "execute_result"
    }
   ],
   "source": [
    "AP_n = 0\n",
    "get_AP_signal_strength(testData, index=0, AP_n=AP_n, num_of_samples=50)"
   ]
  },
  {
   "cell_type": "markdown",
   "metadata": {},
   "source": [
    "Investigate the sample strengths from AP1 (we the first AP by setting \"AP_n=0\") at this location point, using the snippet below. "
   ]
  },
  {
   "cell_type": "code",
   "execution_count": 8,
   "metadata": {},
   "outputs": [
    {
     "data": {
      "image/png": "[encoded data removed]",
      "text/plain": [
       "<Figure size 432x288 with 1 Axes>"
      ]
     },
     "metadata": {
      "needs_background": "light"
     },
     "output_type": "display_data"
    }
   ],
   "source": [
    "import pylab\n",
    "import numpy as np\n",
    "signalStrengthAP1 = get_AP_signal_strength(trainData, index=0, AP_n=0, num_of_samples=60)\n",
    "pylab.plot(signalStrengthAP1)\n",
    "pylab.show()"
   ]
  },
  {
   "cell_type": "markdown",
   "metadata": {},
   "source": [
    "<div class=\"alert alert-info\">\n",
    "Q: What do you notice about the signal strength readings?\n",
    "</div> "
   ]
  },
  {
   "cell_type": "markdown",
   "metadata": {},
   "source": [
    "Your answer: \n",
    "> Not stable, fluctuates in an interval. This is because of random variations e.g. multipath or noise in the radio channel itself."
   ]
  },
  {
   "cell_type": "markdown",
   "metadata": {},
   "source": [
    "<div class=\"alert alert-info\">\n",
    "Q: Change the location index and examine what happens to the signal strength. Is there any pattern you can see?\n",
    "</div> "
   ]
  },
  {
   "cell_type": "markdown",
   "metadata": {},
   "source": [
    "Your answer: \n",
    "> The value fluctuates around a certain value"
   ]
  },
  {
   "cell_type": "markdown",
   "metadata": {},
   "source": [
    "<div class=\"alert alert-info\">\n",
    "Q: Can you estimate the likely position of AP1?\n",
    "</div> "
   ]
  },
  {
   "cell_type": "markdown",
   "metadata": {},
   "source": [
    "Your answer: \n",
    "> (6,6)"
   ]
  },
  {
   "cell_type": "code",
   "execution_count": 9,
   "metadata": {},
   "outputs": [
    {
     "name": "stdout",
     "output_type": "stream",
     "text": [
      "Maximal average signal is at (6.0, 6.0) with -24.95\n"
     ]
    }
   ],
   "source": [
    "# We can explore this by searching for the strongest (average) signal around the whole room...\n",
    "\n",
    "max_signal = -9999.\n",
    "max_signal_location = None, None\n",
    "\n",
    "for i in range(len(trainData)):\n",
    "    x,y = get_location(trainData, index=i)\n",
    "    signal_strengths = get_AP_signal_strength(trainData, index=i, AP_n=0, num_of_samples=60)\n",
    "    mean_signal_strength = np.mean(signal_strengths)\n",
    "    \n",
    "    if mean_signal_strength > max_signal:\n",
    "        max_signal_location = x,y\n",
    "        max_signal = mean_signal_strength\n",
    "\n",
    "print(\"Maximal average signal is at\", max_signal_location, \"with\", max_signal)"
   ]
  },
  {
   "cell_type": "markdown",
   "metadata": {},
   "source": [
    "<div class=\"alert alert-info\">\n",
    "Q: Can you check the locations (using \"get_location(trainData, index)\") where we made these measurements - can you see anything strange about them?\n",
    "</div> \t"
   ]
  },
  {
   "cell_type": "markdown",
   "metadata": {},
   "source": [
    "Your answer: \n",
    "> The locations in the training dataset (trainData) are jumping by 2, they start at location (0,0) and end at (20, 20). In more detail see the prints below:"
   ]
  },
  {
   "cell_type": "code",
   "execution_count": 10,
   "metadata": {},
   "outputs": [
    {
     "name": "stdout",
     "output_type": "stream",
     "text": [
      "Measurement 0 was made at x,y : (20.0, 14.0)\n",
      "Measurement 1 was made at x,y : (18.0, 4.0)\n",
      "Measurement 2 was made at x,y : (14.0, 6.0)\n",
      "Measurement 3 was made at x,y : (6.0, 14.0)\n",
      "Measurement 4 was made at x,y : (2.0, 16.0)\n",
      "Measurement 5 was made at x,y : (16.0, 12.0)\n",
      "Measurement 6 was made at x,y : (2.0, 20.0)\n",
      "Measurement 7 was made at x,y : (6.0, 2.0)\n",
      "Measurement 8 was made at x,y : (14.0, 20.0)\n",
      "Measurement 9 was made at x,y : (0.0, 2.0)\n",
      "Measurement 10 was made at x,y : (4.0, 16.0)\n",
      "Measurement 11 was made at x,y : (10.0, 6.0)\n",
      "Measurement 12 was made at x,y : (12.0, 6.0)\n",
      "Measurement 13 was made at x,y : (12.0, 8.0)\n",
      "Measurement 14 was made at x,y : (14.0, 18.0)\n",
      "Measurement 15 was made at x,y : (20.0, 16.0)\n",
      "Measurement 16 was made at x,y : (8.0, 2.0)\n",
      "Measurement 17 was made at x,y : (4.0, 10.0)\n",
      "Measurement 18 was made at x,y : (10.0, 12.0)\n",
      "Measurement 19 was made at x,y : (18.0, 0.0)\n",
      "Measurement 20 was made at x,y : (8.0, 20.0)\n",
      "Measurement 21 was made at x,y : (14.0, 16.0)\n",
      "Measurement 22 was made at x,y : (12.0, 10.0)\n",
      "Measurement 23 was made at x,y : (10.0, 2.0)\n",
      "Measurement 24 was made at x,y : (0.0, 0.0)\n",
      "Measurement 25 was made at x,y : (8.0, 10.0)\n",
      "Measurement 26 was made at x,y : (18.0, 14.0)\n",
      "Measurement 27 was made at x,y : (14.0, 8.0)\n",
      "Measurement 28 was made at x,y : (12.0, 0.0)\n",
      "Measurement 29 was made at x,y : (12.0, 16.0)\n",
      "Measurement 30 was made at x,y : (18.0, 6.0)\n",
      "Measurement 31 was made at x,y : (8.0, 6.0)\n",
      "Measurement 32 was made at x,y : (14.0, 10.0)\n",
      "Measurement 33 was made at x,y : (4.0, 0.0)\n",
      "Measurement 34 was made at x,y : (6.0, 0.0)\n",
      "Measurement 35 was made at x,y : (0.0, 4.0)\n",
      "Measurement 36 was made at x,y : (8.0, 0.0)\n",
      "Measurement 37 was made at x,y : (4.0, 4.0)\n",
      "Measurement 38 was made at x,y : (0.0, 8.0)\n",
      "Measurement 39 was made at x,y : (14.0, 4.0)\n",
      "Measurement 40 was made at x,y : (16.0, 0.0)\n",
      "Measurement 41 was made at x,y : (2.0, 6.0)\n",
      "Measurement 42 was made at x,y : (14.0, 2.0)\n",
      "Measurement 43 was made at x,y : (0.0, 6.0)\n",
      "Measurement 44 was made at x,y : (6.0, 8.0)\n",
      "Measurement 45 was made at x,y : (4.0, 14.0)\n",
      "Measurement 46 was made at x,y : (16.0, 10.0)\n",
      "Measurement 47 was made at x,y : (10.0, 20.0)\n",
      "Measurement 48 was made at x,y : (20.0, 0.0)\n",
      "Measurement 49 was made at x,y : (18.0, 18.0)\n",
      "Measurement 50 was made at x,y : (4.0, 12.0)\n",
      "Measurement 51 was made at x,y : (6.0, 16.0)\n",
      "Measurement 52 was made at x,y : (18.0, 8.0)\n",
      "Measurement 53 was made at x,y : (0.0, 12.0)\n",
      "Measurement 54 was made at x,y : (8.0, 4.0)\n",
      "Measurement 55 was made at x,y : (12.0, 2.0)\n",
      "Measurement 56 was made at x,y : (20.0, 8.0)\n",
      "Measurement 57 was made at x,y : (14.0, 14.0)\n",
      "Measurement 58 was made at x,y : (10.0, 14.0)\n",
      "Measurement 59 was made at x,y : (10.0, 8.0)\n",
      "Measurement 60 was made at x,y : (6.0, 20.0)\n",
      "Measurement 61 was made at x,y : (20.0, 4.0)\n",
      "Measurement 62 was made at x,y : (0.0, 14.0)\n",
      "Measurement 63 was made at x,y : (4.0, 8.0)\n",
      "Measurement 64 was made at x,y : (4.0, 2.0)\n",
      "Measurement 65 was made at x,y : (16.0, 8.0)\n",
      "Measurement 66 was made at x,y : (0.0, 10.0)\n",
      "Measurement 67 was made at x,y : (16.0, 6.0)\n",
      "Measurement 68 was made at x,y : (2.0, 10.0)\n",
      "Measurement 69 was made at x,y : (10.0, 4.0)\n",
      "Measurement 70 was made at x,y : (10.0, 16.0)\n",
      "Measurement 71 was made at x,y : (18.0, 20.0)\n",
      "Measurement 72 was made at x,y : (2.0, 18.0)\n",
      "Measurement 73 was made at x,y : (6.0, 6.0)\n",
      "Measurement 74 was made at x,y : (6.0, 18.0)\n",
      "Measurement 75 was made at x,y : (6.0, 4.0)\n",
      "Measurement 76 was made at x,y : (18.0, 2.0)\n",
      "Measurement 77 was made at x,y : (14.0, 12.0)\n",
      "Measurement 78 was made at x,y : (16.0, 4.0)\n",
      "Measurement 79 was made at x,y : (4.0, 18.0)\n",
      "Measurement 80 was made at x,y : (6.0, 12.0)\n",
      "Measurement 81 was made at x,y : (20.0, 20.0)\n",
      "Measurement 82 was made at x,y : (12.0, 12.0)\n",
      "Measurement 83 was made at x,y : (8.0, 16.0)\n",
      "Measurement 84 was made at x,y : (2.0, 2.0)\n",
      "Measurement 85 was made at x,y : (8.0, 12.0)\n",
      "Measurement 86 was made at x,y : (14.0, 0.0)\n",
      "Measurement 87 was made at x,y : (2.0, 4.0)\n",
      "Measurement 88 was made at x,y : (20.0, 12.0)\n",
      "Measurement 89 was made at x,y : (2.0, 8.0)\n",
      "Measurement 90 was made at x,y : (18.0, 12.0)\n",
      "Measurement 91 was made at x,y : (6.0, 10.0)\n",
      "Measurement 92 was made at x,y : (0.0, 16.0)\n",
      "Measurement 93 was made at x,y : (12.0, 14.0)\n",
      "Measurement 94 was made at x,y : (4.0, 20.0)\n",
      "Measurement 95 was made at x,y : (20.0, 6.0)\n",
      "Measurement 96 was made at x,y : (16.0, 16.0)\n",
      "Measurement 97 was made at x,y : (16.0, 20.0)\n",
      "Measurement 98 was made at x,y : (8.0, 14.0)\n",
      "Measurement 99 was made at x,y : (18.0, 10.0)\n",
      "Measurement 100 was made at x,y : (20.0, 10.0)\n",
      "Measurement 101 was made at x,y : (18.0, 16.0)\n",
      "Measurement 102 was made at x,y : (10.0, 10.0)\n",
      "Measurement 103 was made at x,y : (8.0, 18.0)\n",
      "Measurement 104 was made at x,y : (0.0, 18.0)\n",
      "Measurement 105 was made at x,y : (4.0, 6.0)\n",
      "Measurement 106 was made at x,y : (12.0, 20.0)\n",
      "Measurement 107 was made at x,y : (12.0, 18.0)\n",
      "Measurement 108 was made at x,y : (10.0, 18.0)\n",
      "Measurement 109 was made at x,y : (12.0, 4.0)\n",
      "Measurement 110 was made at x,y : (16.0, 14.0)\n",
      "Measurement 111 was made at x,y : (10.0, 0.0)\n",
      "Measurement 112 was made at x,y : (2.0, 0.0)\n",
      "Measurement 113 was made at x,y : (2.0, 12.0)\n",
      "Measurement 114 was made at x,y : (2.0, 14.0)\n",
      "Measurement 115 was made at x,y : (20.0, 18.0)\n",
      "Measurement 116 was made at x,y : (16.0, 2.0)\n",
      "Measurement 117 was made at x,y : (16.0, 18.0)\n",
      "Measurement 118 was made at x,y : (20.0, 2.0)\n",
      "Measurement 119 was made at x,y : (0.0, 20.0)\n",
      "Measurement 120 was made at x,y : (8.0, 8.0)\n"
     ]
    }
   ],
   "source": [
    "for i in range(len(trainData)):\n",
    "    print(\"Measurement\", i, \"was made at x,y :\", get_location(trainData, index=i))"
   ]
  },
  {
   "cell_type": "markdown",
   "metadata": {},
   "source": [
    "<div class=\"alert alert-success\">\n",
    "Advanced question: (optional) Can you visualize 2-D map of signal strength for each access point?<br>\n",
    "<i>(Hint: use the prepared functions get_location() and get_AP_signal_strength())</i>\n",
    "</div> "
   ]
  },
  {
   "cell_type": "markdown",
   "metadata": {},
   "source": [
    "Your answer: "
   ]
  },
  {
   "cell_type": "code",
   "execution_count": 11,
   "metadata": {},
   "outputs": [
    {
     "name": "stdout",
     "output_type": "stream",
     "text": [
      "[[-44.4925     -43.02433333 -41.87616667 -41.27216667 -41.91066667\n",
      "  -43.05866667 -44.54133333 -45.93983333 -47.38483333 -48.72266667\n",
      "  -49.86766667]\n",
      " [-43.02716667 -40.88416667 -38.53133333 -37.71616667 -38.62083333\n",
      "  -40.70483333 -43.1425     -45.06466667 -46.60166667 -48.16083333\n",
      "  -49.39433333]\n",
      " [-41.7395     -38.66516667 -34.49316667 -31.246      -34.45233333\n",
      "  -38.721      -41.84366667 -44.20933333 -46.269      -47.8075\n",
      "  -49.20283333]\n",
      " [-41.3505     -37.5695     -31.235      -24.95       -31.37833333\n",
      "  -37.62316667 -41.24266667 -43.92916667 -45.9815     -47.67633333\n",
      "  -49.064     ]\n",
      " [-41.8495     -38.554      -34.455      -31.33216667 -34.58566667\n",
      "  -38.81       -41.694      -44.262      -46.263      -47.847\n",
      "  -49.17066667]\n",
      " [-43.07683333 -40.806      -38.703      -37.664      -38.83083333\n",
      "  -40.79966667 -42.9715     -44.99       -46.6035     -48.18366667\n",
      "  -49.4375    ]\n",
      " [-44.54783333 -42.95466667 -41.82433333 -41.40583333 -41.76066667\n",
      "  -43.0075     -44.40966667 -46.01       -47.47466667 -48.75666667\n",
      "  -49.99266667]\n",
      " [-46.04816667 -44.9045     -44.309      -43.95183333 -44.22316667\n",
      "  -44.99183333 -46.03966667 -47.07766667 -48.27916667 -49.33216667\n",
      "  -50.35983333]\n",
      " [-47.3555     -46.791      -46.27283333 -45.97733333 -46.19183333\n",
      "  -46.73983333 -47.438      -48.34983333 -49.21083333 -50.04266667\n",
      "  -51.01516667]\n",
      " [-48.62916667 -47.99483333 -47.752      -47.57966667 -47.714\n",
      "  -48.18633333 -48.663      -49.13783333 -50.18866667 -50.72083333\n",
      "  -51.59516667]\n",
      " [-49.795      -49.55216667 -49.148      -48.99966667 -49.22233333\n",
      "  -49.42333333 -49.91316667 -50.38183333 -51.10583333 -51.5385\n",
      "  -52.31333333]]\n"
     ]
    },
    {
     "data": {
      "text/plain": [
       "<matplotlib.image.AxesImage at 0x7f31268f9c88>"
      ]
     },
     "execution_count": 11,
     "metadata": {},
     "output_type": "execute_result"
    },
    {
     "data": {
      "image/png": "[encoded data removed]",
      "text/plain": [
       "<Figure size 432x288 with 1 Axes>"
      ]
     },
     "metadata": {
      "needs_background": "light"
     },
     "output_type": "display_data"
    }
   ],
   "source": [
    "import numpy as np\n",
    "heatmap = np.zeros((11,11)) # we create an empty array to fill in the average strenghts\n",
    "for i in range(len(trainData)):\n",
    "    x,y = get_location(trainData, index=i)\n",
    "    signal_strengths = get_AP_signal_strength(trainData, index=i, AP_n=0, num_of_samples=60)\n",
    "    mean_signal_strength = np.mean(signal_strengths)\n",
    "    \n",
    "    # we divide the location index - see the previous answer, looks like the measurements were made in increments of 2\n",
    "    heatmap[ int(x/2), int(y/2) ] = mean_signal_strength\n",
    "    \n",
    "print(heatmap)\n",
    "pylab.imshow(heatmap)\n"
   ]
  },
  {
   "cell_type": "markdown",
   "metadata": {},
   "source": [
    "## A simple approach to finding location\n",
    "\n",
    "Now that we have a better understanding of how the signals vary over space (and time), we can now try and solve the localization problem: given a set of signal strengths at an unknown location and an offline map, can we find the best estimate of the device position?\n",
    "\n",
    "One of the simplest approaches is just a nearest neighbour lookup i.e. we just compare our candidate set of signal strengths to the signal strengths in the offline map and find the closest match. \n",
    "\n",
    "<div class=\"alert alert-info\">\n",
    "Q: What would be a good way of working out how \"far\" two sets of signal strengths are from each other?\n",
    "</div> "
   ]
  },
  {
   "cell_type": "markdown",
   "metadata": {},
   "source": [
    "Your answer: \n",
    "> e.g.: Euclidean Distance of mean value of both sets. Or perhaps simply <code>abs(mean(RSSI_1) - mean(RSSI_2))<code>"
   ]
  },
  {
   "cell_type": "markdown",
   "metadata": {},
   "source": [
    "Rather than using all the raw information in the table, it perhaps would be more helpful to turn the 60 readings from each AP into representative statistics. \n",
    "\n",
    "<div class=\"alert alert-info\">\n",
    "Q: What are some sensible statistics that could be used?\n",
    "</div>"
   ]
  },
  {
   "cell_type": "markdown",
   "metadata": {},
   "source": [
    "Your answer: \n",
    "\n",
    ">There are many options here. A simple, yet robust option is to use the mean or median as a measure of centrality and the interquartile range (difference between top 75% and bottom 25% measurements) as a measure of spread.\n",
    "\n",
    "\n",
    ">An alternative is to model (e.g. with a Gaussian/Normal distribution or similar) the centre and spread of the measurements."
   ]
  },
  {
   "cell_type": "markdown",
   "metadata": {},
   "source": [
    "In this approach, we will simply compute the mean of the readings in the map for each AP. We will then compute the difference between the trial signal strength and each of the values in the map, recording the index of the smallest distance. Lets start from the first point in the testData set.\n",
    "\n",
    "<div class=\"alert alert-info\">\n",
    "Q: What is the ground-truth location of this point?\n",
    "</div>"
   ]
  },
  {
   "cell_type": "markdown",
   "metadata": {},
   "source": [
    "Your answer: \n",
    "> The first line of the file testRow[1:3] - or the answer we get from the function get_location() when we give it the testData as dataset:"
   ]
  },
  {
   "cell_type": "code",
   "execution_count": 12,
   "metadata": {},
   "outputs": [
    {
     "data": {
      "text/plain": [
       "(3.0, 3.0)"
      ]
     },
     "execution_count": 12,
     "metadata": {},
     "output_type": "execute_result"
    }
   ],
   "source": [
    "get_location(testData, index=0)"
   ]
  },
  {
   "cell_type": "markdown",
   "metadata": {},
   "source": [
    "Fill in the skeleton code below to find the closest point in the offline map to the candidate point. Note that although we take 50 samples in the test data set, we are just using the first sample point i.e. an instantaneous snap-shot."
   ]
  },
  {
   "cell_type": "code",
   "execution_count": 13,
   "metadata": {},
   "outputs": [],
   "source": [
    "import numpy as np\n",
    "\n",
    "def predict(i):\n",
    "    # Extract the ground-truth location\n",
    "    groundTruthX, groundTruthY = get_location(testData, index=i)\n",
    "    \n",
    "    # Take the Signal Strengths of each AP in the trial point\n",
    "    testAP1signals = get_AP_signal_strength(testData, index=i, AP_n=0, num_of_samples=50) # < remember, the test dataset has 50 measurements!\n",
    "    testAP2signals = get_AP_signal_strength(testData, index=i, AP_n=1, num_of_samples=50)\n",
    "    testAP3signals = get_AP_signal_strength(testData, index=i, AP_n=2, num_of_samples=50)\n",
    "    \n",
    "    # We can check just the fist measured value, or use something more representative, such as the mean of these values...\n",
    "    \n",
    "#     testAP1 = testAP1signals[0]\n",
    "#     testAP2 = testAP2signals[0]\n",
    "#     testAP3 = testAP3signals[0]\n",
    "    testAP1 = np.mean(testAP1signals)\n",
    "    testAP2 = np.mean(testAP2signals)\n",
    "    testAP3 = np.mean(testAP3signals)\n",
    "    \n",
    "    lik = np.zeros(len(trainData))\n",
    "    predicted_loc = np.zeros(2)\n",
    "    # Iterate through the map\n",
    "    for k in range(len(trainData)):\n",
    "        surveyAP1mean = np.mean( get_AP_signal_strength(trainData, index=k, AP_n=0, num_of_samples=60) ) # < remember, the train dataset has 60 measurements!\n",
    "        surveyAP2mean = np.mean( get_AP_signal_strength(trainData, index=k, AP_n=1, num_of_samples=60) )\n",
    "        surveyAP3mean = np.mean( get_AP_signal_strength(trainData, index=k, AP_n=2, num_of_samples=60) )\n",
    "\n",
    "        # compute the score here, and record the best position in the map\n",
    "        dist = np.sqrt((testAP1-surveyAP1mean)**2+(testAP2-surveyAP2mean)**2+(testAP3-surveyAP3mean)**2)\n",
    "        \n",
    "        lik[k] = dist\n",
    "    \n",
    "    # Find the index of the most likely location\n",
    "    ind = np.argmin(lik)\n",
    "    \n",
    "    predicted_loc = get_location(trainData, index=ind)\n",
    "    return predicted_loc\n",
    "\n",
    "# print(predict(0))\n",
    "# print(get_location(testData, index=0))"
   ]
  },
  {
   "cell_type": "markdown",
   "metadata": {},
   "source": [
    "<div class=\"alert alert-info\">\n",
    "Q: For the first testing data, modify the above code to find the closest match. What is the distance error between the ground-truth location and the closest match in the map?\n",
    "</div>"
   ]
  },
  {
   "cell_type": "markdown",
   "metadata": {},
   "source": [
    "Your answer: \n",
    "> The predicted location is \\[4, 10\\], the actual location is \\[3, 3\\]."
   ]
  },
  {
   "cell_type": "markdown",
   "metadata": {},
   "source": [
    "<div class=\"alert alert-info\">\n",
    "Q: Now we try using the average value of the 50 samples in the data set instead of just the first one. Does the accuracy improve?\n",
    "</div>"
   ]
  },
  {
   "cell_type": "markdown",
   "metadata": {},
   "source": [
    "Your answer: \n",
    "> Yes.\n",
    "\n",
    "> Other options are: using median value, using mean value, averaging top k, or weighted average of top k, etc."
   ]
  },
  {
   "cell_type": "markdown",
   "metadata": {},
   "source": [
    "<div class=\"alert alert-info\">\n",
    "Q: Wrap your code into a function `predict()` that you can use to run through all the test points to compute errors for each test location. Visualize the result with the help of the following plot function. What is the mean overall error? What is the worst case error? Which do you think is more important for a location system and why?\n",
    "</div>"
   ]
  },
  {
   "cell_type": "markdown",
   "metadata": {},
   "source": [
    "Your answer: "
   ]
  },
  {
   "cell_type": "code",
   "execution_count": 15,
   "metadata": {},
   "outputs": [
    {
     "name": "stdout",
     "output_type": "stream",
     "text": [
      "-> Visualizing estimated trajectory...\n"
     ]
    },
    {
     "data": {
      "image/png": "[encoded data removed]",
      "text/plain": [
       "<Figure size 432x288 with 1 Axes>"
      ]
     },
     "metadata": {
      "needs_background": "light"
     },
     "output_type": "display_data"
    },
    {
     "name": "stdout",
     "output_type": "stream",
     "text": [
      "done\n",
      "\n"
     ]
    }
   ],
   "source": [
    "# Plot the actual and estimated locations\n",
    "import matplotlib.pyplot as plt\n",
    "def plot_path(actual_loc, predicted_loc, n_ap):\n",
    "    \"\"\"\n",
    "    :param actual_loc: Actual locations\n",
    "    :param predicted_loc: Estimated locations\n",
    "    :param n_ap: Number of APs\n",
    "    :return: null\n",
    "    \"\"\"\n",
    "    print(\"-> Visualizing estimated trajectory...\")\n",
    "\n",
    "    if n_ap == 3:\n",
    "        ap_loc = np.array([[6, 6], [8, 16], [18, 14]])\n",
    "    else:\n",
    "        ap_loc = np.array([[6, 6], [8, 16], [18, 14], [16, 4], [12, 10]])\n",
    "\n",
    "    plt.figure()\n",
    "    plt.plot(ap_loc[:, 0], ap_loc[:, 1], 'b*', markersize=15)\n",
    "    plt.plot(actual_loc[:, 0], actual_loc[:, 1], 'go-', linewidth=2)\n",
    "    plt.plot(predicted_loc[:, 0], predicted_loc[:, 1], 'ro-', linewidth=2)\n",
    "\n",
    "    major_ticks = np.arange(-2, 22, 2)\n",
    "\n",
    "    axes = plt.gca()\n",
    "    axes.set_xlim([-2, 22])\n",
    "    axes.set_ylim([-2, 22])\n",
    "    axes.set_xticks(major_ticks)\n",
    "    axes.set_yticks(major_ticks)\n",
    "    plt.xlabel('X -> m')\n",
    "    plt.ylabel('Y -> m')\n",
    "    plt.title('Green line = actual path , Red line = estimated path, Blue points = AP loc')\n",
    "    plt.grid(True)\n",
    "    plt.show(block=False)\n",
    "\n",
    "    print(\"done\\n\")\n",
    "    return\n",
    "\n",
    "#your code here\n",
    "actual_loc1 = np.zeros((len(testData), 2))\n",
    "predicted_loc1 = np.zeros((len(testData), 2))\n",
    "for i in range(len(testData)):\n",
    "    actual_loc1[i] = get_location(testData, i)\n",
    "    predicted_loc1[i] = predict(i)\n",
    "\n",
    "plot_path(actual_loc1,predicted_loc1,3)\n",
    "\n",
    "#calculate mean error, median error, etc. here."
   ]
  },
  {
   "cell_type": "code",
   "execution_count": 17,
   "metadata": {},
   "outputs": [
    {
     "name": "stdout",
     "output_type": "stream",
     "text": [
      "maximum error:  9.433981132056603\n",
      "mean error:  1.4210947498468083\n"
     ]
    }
   ],
   "source": [
    "maximum_err = 0\n",
    "total_err = 0\n",
    "for i in range(0,len(actual_loc1)):\n",
    "    err = np.sqrt((actual_loc1[i,0]-predicted_loc1[i,0])**2+(actual_loc1[i,1]-predicted_loc1[i,1])**2)\n",
    "    if err > maximum_err:\n",
    "        maximum_err = err\n",
    "    total_err += err\n",
    "avg_err = total_err/len(actual_loc1)\n",
    "print(\"maximum error: \",maximum_err)\n",
    "print(\"mean error: \",avg_err)"
   ]
  },
  {
   "cell_type": "markdown",
   "metadata": {},
   "source": [
    "<div class=\"alert alert-info\">\n",
    "Q: (optional) Instead of finding the best (closest) match in the map, what if you instead found the top-k matches and then computed their mean? Do this centroid-weighting approach help or not?\n",
    "</div>"
   ]
  },
  {
   "cell_type": "markdown",
   "metadata": {},
   "source": [
    "Your answer: \n",
    "> depends on your algorithm, but typically it leads to more robust estimates"
   ]
  },
  {
   "cell_type": "markdown",
   "metadata": {},
   "source": [
    "## HORUS: A probabilistic approach to location finding\n",
    "\n"
   ]
  },
  {
   "cell_type": "markdown",
   "metadata": {},
   "source": [
    "Instead of just taking the mean value of the signal strengths in the map, we can consider including higher-order statistics as well, e.g. the variance (or standard-deviation) that reflect the variability in the signal over time. One of the first approaches to wifi fingerprinting proposed just this technique, which we will implement a simplified version of.\n",
    "\n",
    "> Youssef, Moustafa, and Ashok Agrawala. \"The Horus WLAN location determination system.\" Proceedings of the 3rd international conference on Mobile systems, applications, and services. ACM, 2005.\n"
   ]
  },
  {
   "cell_type": "markdown",
   "metadata": {},
   "source": [
    "### Mathematical Model\n",
    "\n",
    "Let $X$ be a 2-dimensional physical space. At each location $x \\in X$, we can measure the signal strength from $k$ access points. We denote the $k$-dimensional signal strength space as $S$. We denote samples from the signal strength space $S$ as $s$. We also assume that the samples from different access points are independent. \n",
    "The problem becomes, given a signal strength vector $s=(s_1, s_2 ... s_k)$ , we want to find the location $x \\in X$ that maximizes the probability $\\mathrm{P} (x \\vert s)$\n",
    "\n",
    "1)\t*Offline phase:* During the offline phase, the Horus system estimates the signal strength histogram for each access point at each location. These histograms represent the Horus system’s radio map. \n",
    "\n",
    "\n",
    "2)\t*Online phase:* Given a signal strength vector $s=(s_1, s_2 ... s_k)$ , we want to find the location $x \\in X$ that maximizes the probability  $P(x  \\vert   s)$, i.e. we want to find\n",
    "\n",
    "$$\\newcommand{\\argmaxI}{\\mathop{\\mathrm{argmax}}\\nolimits} \\argmaxI_x \\mathrm{P} (x \\vert s)$$\n",
    " \n",
    "\n",
    "Using Bayes’ theorem, this can be shown to be equivalent to:\n",
    "\n",
    "$$\\newcommand{\\argmaxI}{\\mathop{\\mathrm{argmax}}\\nolimits} \n",
    "\\argmaxI_x \\mathrm{P} (x \\vert s) =\n",
    "\\argmaxI_x \\mathrm{P} (s \\vert x) =\n",
    "\\argmaxI_x \\prod_{i=1}^{k} \\mathrm{P} (s_i \\vert x) $$\n",
    " \n",
    "Effectively, it says that we should find the location in the map that would maximize the likelihood (probability) of resulting in the sampled measurements."
   ]
  },
  {
   "cell_type": "markdown",
   "metadata": {},
   "source": [
    "### Offline Phase: Build a histogram map\n",
    "\n",
    "In the offline phase, instead of storing N different raw measurements, or aggregating them using their mean, we will instead look at their distribution. Lets first investigate how best to represent the distribution compactly.\n",
    "\n",
    "\n",
    "<div class=\"alert alert-info\">\n",
    "Q: Plot a histogram (hint: use `pylab.hist()`) of signal strengths from one AP for one location. What do you notice about the distribution? Does this hold for other points in the survey dataset?\n",
    "</div>\n"
   ]
  },
  {
   "cell_type": "code",
   "execution_count": 18,
   "metadata": {},
   "outputs": [
    {
     "data": {
      "text/plain": [
       "(array([ 3.,  2.,  6., 13., 15.,  4.,  8.,  6.,  0.,  3.]),\n",
       " array([-51.47 , -51.237, -51.004, -50.771, -50.538, -50.305, -50.072,\n",
       "        -49.839, -49.606, -49.373, -49.14 ]),\n",
       " <BarContainer object of 10 artists>)"
      ]
     },
     "execution_count": 18,
     "metadata": {},
     "output_type": "execute_result"
    },
    {
     "data": {
      "image/png": "[encoded data removed]",
      "text/plain": [
       "<Figure size 432x288 with 1 Axes>"
      ]
     },
     "metadata": {
      "needs_background": "light"
     },
     "output_type": "display_data"
    }
   ],
   "source": [
    "#your code here\n",
    "pylab.hist(get_AP_signal_strength(trainData, index=0, AP_n=0, num_of_samples=60))"
   ]
  },
  {
   "cell_type": "markdown",
   "metadata": {},
   "source": [
    "Your answer: \n",
    "> It looks like a normal (Gaussian) distribution."
   ]
  },
  {
   "cell_type": "markdown",
   "metadata": {},
   "source": [
    "Rather than storing the histogram as a set of bins, we can represent it as a normal (Gaussian) distribution. The normal distribution is parameterized by a mean $\\mu$ and standard deviation $\\sigma$. We can fit a normal distribution to a histogram of signal strengths to compactly represent the random variations, regardless of the number of samples in the histogram. We can use the helper function with the API below to transform the raw signal strength databases into normally distributed data.\n",
    "\n",
    "```python\n",
    "def fit_data(train_db, n_samples, n_ap):\n",
    "    \"\"\"\n",
    "    :param train_db: RSS points collected at known locations\n",
    "    :param n_samples: Number of RSS samples per location\n",
    "    :param n_ap: Number of access points\n",
    "    :return: Wifi fingerprint database; We approximate the RSS at each location with a Gaussian\n",
    "    \"\"\"\n",
    "```    \n",
    "\n",
    "Given a raw dataset of signal strengths as above, this transforms it into an array with the following structure:\n",
    "\n",
    "![db2.png](db2.png)\n",
    "\n",
    "This is accomplished in the two lines of code below. We also visualize a few samples to have a better understanding of the norm fitting process."
   ]
  },
  {
   "cell_type": "code",
   "execution_count": 19,
   "metadata": {},
   "outputs": [
    {
     "name": "stdout",
     "output_type": "stream",
     "text": [
      "-> Modeling RSS with Gaussian dist...done\n",
      "-> Modeling RSS with Gaussian dist...done\n"
     ]
    },
    {
     "data": {
      "image/png": "[encoded data removed]",
      "text/plain": [
       "<Figure size 720x288 with 3 Axes>"
      ]
     },
     "metadata": {
      "needs_background": "light"
     },
     "output_type": "display_data"
    }
   ],
   "source": [
    "normTrainData = myhelper.fit_data(trainData,MAX_SAMPLES,NUMBER_OF_APS)\n",
    "normTestData = myhelper.fit_data(testData,MAX_SAMPLES,NUMBER_OF_APS)\n",
    "\n",
    "# visualization for a better understanding\n",
    "# visualize location 0 AP1, location 1 AP 2 and location 2 AP 3\n",
    "import matplotlib.pyplot as plt\n",
    "from scipy.stats import norm\n",
    "%matplotlib inline\n",
    "# Plot\n",
    "fig, axs = plt.subplots(1,3, figsize=(10,4))\n",
    "\n",
    "for measurement_idx in range(3):\n",
    "        #Plot histogram\n",
    "        n, bins, patches = axs[measurement_idx].hist(trainData[measurement_idx, 3+MAX_SAMPLES * measurement_idx: 3+MAX_SAMPLES*(measurement_idx + 1)], \n",
    "                                                     bins=10, density=True, histtype='step', cumulative=False, label='Histogram')\n",
    "\n",
    "        #Compute and plot normal distribution\n",
    "        mu = normTrainData[measurement_idx, 3+measurement_idx*2]\n",
    "        sigma = normTrainData[measurement_idx, 4+measurement_idx*2]        \n",
    "        x = np.linspace(mu - 3*sigma, mu + 3*sigma, 100)\n",
    "        axs[measurement_idx].plot(x, norm.pdf(x, mu, sigma),label='Gaussian fit')\n",
    "        \n",
    "        #Set labels\n",
    "        axs[measurement_idx].grid(True)\n",
    "        axs[measurement_idx].legend()\n",
    "        axs[measurement_idx].set_title('Number of counts')\n",
    "        axs[measurement_idx].set_xlabel('RSSI')\n",
    "        axs[measurement_idx].set_ylabel('Probability')\n",
    "plt.tight_layout()\n",
    "plt.show()"
   ]
  },
  {
   "cell_type": "markdown",
   "metadata": {},
   "source": [
    "<div class=\"alert alert-info\">\n",
    "Q: What are the pros and cons of using the Gaussian distribution to represent the signal strength histogram. Can you provide some specific scenarios where it would be a bad approximation?\n",
    "</div>"
   ]
  },
  {
   "cell_type": "markdown",
   "metadata": {},
   "source": [
    "Your answer: \n",
    "\n",
    "> Gaussian is easy to understand and use and can be entirely described with two parameters. It models the distribution pretty well. However, if the environment is not stable, e.g., perhaps whether a door is open or clsoed might affect the signal strength at a certain location. For this location, if we only apply Gaussian distribution to this location, it would be inaccurate. An alternative would be to use a richer model e.g. a Gaussian Mixture Model or a bimodal distribution"
   ]
  },
  {
   "cell_type": "markdown",
   "metadata": {},
   "source": [
    "### Online phase: find the best match\n",
    "\n",
    "Make a new version of your `predict()` function above to use this probabilistic technique. In particular, you will need to compute the likelihood that a sample (e.g. the mean of signal strength from AP_1) is actually drawn from the offline-computed distribution. You can compute the likelihood as follows:\n",
    "\n",
    "```python\n",
    "from scipy.stats import norm\n",
    "\n",
    "likelihood_AP1 = norm.pdf(trial_signal_strength_AP1, offline_mu_AP1, offline_sigma_AP1)\n",
    "likelihood_AP2 = norm.pdf(trial_signal_strength_AP2, offline_mu_AP2, offline_sigma_AP2)\n",
    "likelihood_AP3 = norm.pdf(trial_signal_strength_AP3, offline_mu_AP3, offline_sigma_AP3)\n",
    "likelihood = likelihood_AP1 * likelihood_AP2 * likelihood_AP3\n",
    "```\n",
    "\n",
    "As the Bayes equation shows above, you can simply multiply these probabilities together. An alternative approach, which is numerically more stable, is to instead take the log-likelihood. By taking logs of both sides of the equation, the multiplication turns into an addition, and you can simply add the log-likelihood probabilities from each AP to obtain the overall log-likelihood.  \n",
    "\n",
    "```python\n",
    "from scipy.stats import norm\n",
    "\n",
    "log_likelihood_AP1 = norm.logpdf(trial_signal_strength_AP1, offline_mu_AP1, offline_sigma_AP1)\n",
    "log_likelihood_AP2 = norm.logpdf(trial_signal_strength_AP2, offline_mu_AP2, offline_sigma_AP2)\n",
    "log_likelihood_AP3 = norm.logpdf(trial_signal_strength_AP3, offline_mu_AP3, offline_sigma_AP3)\n",
    "log_likelihood = log_likelihood_AP1 + log_likelihood_AP2 + log_likelihood_AP3\n",
    "```"
   ]
  },
  {
   "cell_type": "markdown",
   "metadata": {},
   "source": [
    "<div class=\"alert alert-info\">\n",
    "Q: Implement the probabilistic approach to `predict()` and compare its performance to the methods based simply on the mean or the centroid.\n",
    "</div>"
   ]
  },
  {
   "cell_type": "markdown",
   "metadata": {},
   "source": [
    "Your answer: \n",
    "> See code below."
   ]
  },
  {
   "cell_type": "markdown",
   "metadata": {},
   "source": [
    "<div class=\"alert alert-success\">\n",
    "Advanced question (optional): Can you plot the error cumulative density function for each of your predict methods?\n",
    "</div> "
   ]
  },
  {
   "cell_type": "markdown",
   "metadata": {},
   "source": [
    "Your answer: \n",
    "> See the cells below."
   ]
  },
  {
   "cell_type": "markdown",
   "metadata": {},
   "source": [
    "<div class=\"alert alert-info\">\n",
    "Q: (optional) How well do your methods work for the other dataset, with 5 APs?\n",
    "</div>"
   ]
  },
  {
   "cell_type": "markdown",
   "metadata": {},
   "source": [
    "This part is left for you to try."
   ]
  },
  {
   "cell_type": "code",
   "execution_count": 20,
   "metadata": {},
   "outputs": [
    {
     "name": "stdout",
     "output_type": "stream",
     "text": [
      "-> Visualizing estimated trajectory...\n"
     ]
    },
    {
     "data": {
      "image/png": "[encoded data removed]",
      "text/plain": [
       "<Figure size 432x288 with 1 Axes>"
      ]
     },
     "metadata": {
      "needs_background": "light"
     },
     "output_type": "display_data"
    },
    {
     "name": "stdout",
     "output_type": "stream",
     "text": [
      "done\n",
      "\n"
     ]
    }
   ],
   "source": [
    "#your code here\n",
    "\n",
    "#Note: this is a different implementation of predict, which returns all the ground truth and predictions as to N*2 arrays.\n",
    "from scipy.stats import norm\n",
    "def predict():\n",
    "    \n",
    "    #print \"running Horus\"\n",
    "\n",
    "    predicted_loc = np.zeros((len(testData), 2))\n",
    "    actual_loc = np.zeros((len(testData), 2))\n",
    "\n",
    "    for i in range(0, len(testData)):\n",
    "        # the GT location:\n",
    "        actual_loc[i] = get_location(testData, index=i)\n",
    "\n",
    "        # Keep track of the likelihood being in each location\n",
    "        loglik = np.zeros(len(normTrainData))\n",
    "\n",
    "        # Go through each location in the wifi_db\n",
    "        for j in range(0, len(normTrainData)):\n",
    "\n",
    "            # Take account all access points\n",
    "            for k in range(0, NUMBER_OF_APS):\n",
    "                # Get the RSS data at the unknown location\n",
    "                rssdat = get_AP_signal_strength(testData, index=i, AP_n=k, num_of_samples=50)\n",
    "\n",
    "                # Calculate the mean\n",
    "                test_point = np.mean(rssdat)\n",
    "\n",
    "                # Calculate the loglikelihood\n",
    "                mu = normTrainData[j, (k * 2) + 3]\n",
    "                sigma = normTrainData[j, (k * 2) + 4]\n",
    "                loglik[j] += norm.logpdf(test_point, mu, sigma)\n",
    "\n",
    "        # Find the most likely location\n",
    "        ind = np.argmax(loglik)\n",
    "        predicted_loc[i] = get_location(normTrainData, index=ind)\n",
    "\n",
    "    #print \"done.\"\n",
    "    return actual_loc, predicted_loc\n",
    "\n",
    "(actual_loc,predicted_loc)=predict()\n",
    "plot_path(actual_loc, predicted_loc, 3)"
   ]
  },
  {
   "cell_type": "code",
   "execution_count": 21,
   "metadata": {},
   "outputs": [
    {
     "data": {
      "image/png": "[encoded data removed]",
      "text/plain": [
       "<Figure size 432x288 with 1 Axes>"
      ]
     },
     "metadata": {
      "needs_background": "light"
     },
     "output_type": "display_data"
    },
    {
     "data": {
      "image/png": "[encoded data removed]",
      "text/plain": [
       "<Figure size 432x288 with 1 Axes>"
      ]
     },
     "metadata": {
      "needs_background": "light"
     },
     "output_type": "display_data"
    }
   ],
   "source": [
    "from statsmodels.distributions.empirical_distribution import ECDF\n",
    "# Calculate and plot the localization error\n",
    "def plot_error(actual_loc, predicted_loc):\n",
    "    \"\"\"\n",
    "    :param actual_loc: Actual locations\n",
    "    :param predicted_loc: Estimated Locations\n",
    "    :return: null\n",
    "    \"\"\"\n",
    "\n",
    "    #print \"-> Calculating localization error...\"\n",
    "\n",
    "    err = np.zeros((1, len(actual_loc)))\n",
    "    for i in range(0, len(actual_loc)):\n",
    "        err[0, i] = np.sqrt((actual_loc[i, 0] - predicted_loc[i, 0]) ** 2 +\n",
    "                            (actual_loc[i, 1] - predicted_loc[i, 1]) ** 2)\n",
    "\n",
    "    mean_err = np.mean(err)\n",
    "\n",
    "    ecdf = ECDF(err[0, :])\n",
    "    plt.figure()\n",
    "    plt.plot(ecdf.x, ecdf.y)\n",
    "    plt.grid(True)\n",
    "    plt.xlabel('error -> m')\n",
    "    plt.ylabel('Probability')\n",
    "    plt.title('Error CDF , Mean error = %.3f' % mean_err)\n",
    "    plt.show(block=False)\n",
    "\n",
    "    #print \"done\\n\"\n",
    "    return\n",
    "\n",
    "plot_error(actual_loc,predicted_loc)\n",
    "\n",
    "#previous method\n",
    "plot_error(actual_loc1,predicted_loc1)\n",
    "\n"
   ]
  },
  {
   "cell_type": "markdown",
   "metadata": {},
   "source": [
    "<div class=\"alert alert-info\">\n",
    "Q: (optional) Compare and contrast the techniques you have developed today. Consider aspects such as computational cost and factors such as how best to acquire and store the map. How can you update the map? Can you build a map without any surveying at all? Where should the computation happen? What is the impact of device specific variation e.g. different wireless network cards?\n",
    "</div>"
   ]
  },
  {
   "cell_type": "markdown",
   "metadata": {},
   "source": [
    "Your answer: \n",
    "\n",
    "> Using the mean is simple and straightforward, but not as accurate as modelling using a Gaussian. If we were doing WiFi based localization on a resource constrained device, fitting a Gaussian to a dataset can be quite expensive. Using the mean/median/interquartile range etc can serve as a simple approximation.\n",
    "\n",
    "> Storing the map in terms of its distribution (e.g. mean and standard deviation) is cheap, as regardless of the number of measurements, only two parameters are required per location. However, if reality does not align well with the assumptions, e.g. the distribution is long-tailed, bimodal, or even multi-modal, then the Gaussian fit will be a poor approximation.\n",
    "\n",
    "> To build a map without any surveying is hard, but not impossible. It is called WiFi SLAM (simultaneous localization and mapping). It can be augmented with other information such as from inertial measurement units, or using building floor plans. It is based on the assumption that people do not jump from one location to another location, but can only move to an adjacent location.\n",
    "\n",
    "> Ideally, the computation should happen on the edge/IoT device, but sometimes it is more accurate to use the cloud, as it can have a richer model. Using a cloud model also allows the model to more easily use updated data from multiple users to build continually evolving maps.\n",
    "\n",
    "> Due to different sensing abilities, different wireless network cards may perform differently. Thus, there needs to be a per-device calibration phase as well."
   ]
  },
  {
   "cell_type": "code",
   "execution_count": null,
   "metadata": {},
   "outputs": [],
   "source": []
  }
 ],
 "metadata": {
  "anaconda-cloud": {},
  "kernelspec": {
   "display_name": "Python 3 (ipykernel)",
   "language": "python",
   "name": "python3"
  },
  "language_info": {
   "codemirror_mode": {
    "name": "ipython",
    "version": 3
   },
   "file_extension": ".py",
   "mimetype": "text/x-python",
   "name": "python",
   "nbconvert_exporter": "python",
   "pygments_lexer": "ipython3",
   "version": "3.7.0"
  }
 },
 "nbformat": 4,
 "nbformat_minor": 2
}
